{
 "cells": [
  {
   "cell_type": "markdown",
   "metadata": {
    "slideshow": {
     "slide_type": "slide"
    }
   },
   "source": [
    "## Getting ready for class\n",
    "\n",
    "\n",
    "Before class starts, please:\n",
    "\n",
    "- Visit this URL:\n",
    "\n",
    "# [bit.ly/ubco_altair](http://bit.ly/ubco_altair)\n",
    "\n",
    "- Click the link in the README to get the lecture notes for today\n",
    "\n",
    "<br>\n",
    "<br>\n",
    "<br>\n",
    "\n",
    "## RE: Jupyter Notebooks\n",
    "\n",
    "- Shift + enter to run a cell"
   ]
  },
  {
   "cell_type": "code",
   "execution_count": null,
   "metadata": {},
   "outputs": [],
   "source": [
    "# Import libraries\n",
    "\n",
    "import pandas as pd\n",
    "import numpy as np\n",
    "from IPython.display import IFrame\n",
    "\n",
    "import matplotlib.pyplot as plt\n",
    "\n",
    "import altair as alt\n",
    "from vega_datasets import data\n",
    "mtcars = data.cars()\n",
    "\n",
    "# Poll question links\n",
    "q1 = 'https://app.sli.do/event/0nwvmaj5/embed/polls/5cff1bff-b850-4647-b2fd-c799dbd16b78'\n",
    "q2 = 'https://app.sli.do/event/0nwvmaj5/embed/polls/e3282762-367b-40c7-a9cc-c76f9f8db849'\n",
    "\n",
    "## Set Altair default size\n",
    "\n",
    "def theme_fm(*args, **kwargs):\n",
    "    return {'height': 220,\n",
    "            'width' : 220,\n",
    "            'config': {'style': {'circle': {'size': 400},\n",
    "                                'point': {'size': 30},\n",
    "                                'square': {'size': 400},\n",
    "                                },\n",
    "                       'legend': {'symbolSize': 20, 'titleFontSize': 20, 'labelFontSize': 20}, \n",
    "                       'axis': {'titleFontSize': 20, 'labelFontSize': 20}},\n",
    "            }\n",
    "\n",
    "alt.themes.register('theme_fm', theme_fm)\n",
    "alt.themes.enable('theme_fm')\n",
    "\n",
    "print('You are ready to proceed!')"
   ]
  },
  {
   "cell_type": "markdown",
   "metadata": {
    "slideshow": {
     "slide_type": "slide"
    }
   },
   "source": [
    "## Learning Context\n",
    "\n",
    "<center>\n",
    "<img src=\"imgs/image.jpg\" width=50%>\n",
    "</center>"
   ]
  },
  {
   "cell_type": "markdown",
   "metadata": {
    "cell_style": "center",
    "slideshow": {
     "slide_type": "subslide"
    }
   },
   "source": [
    "## Learning Context: Visualization I\n",
    "\n",
    "\n",
    "- **Academic year**: Block 2 of MDS-V\n",
    "    - Block 1: Platforms, Programming, Wrangling\n",
    "    - ~ 120 students in the class"
   ]
  },
  {
   "cell_type": "markdown",
   "metadata": {
    "cell_style": "center",
    "slideshow": {
     "slide_type": "fragment"
    }
   },
   "source": [
    "- **Programming**: Varied\n",
    "     - Least experienced: 1-2 months in python and R \n",
    "     - Most experienced:  Worked in software industry for 2+ years "
   ]
  },
  {
   "cell_type": "markdown",
   "metadata": {
    "cell_style": "center",
    "slideshow": {
     "slide_type": "fragment"
    }
   },
   "source": [
    "- **Prior knowledge**: Most have strong preferences\n",
    "    - Python: Matplotlib and/or Seaborn\n",
    "    - R: baseR and/or ggplot\n"
   ]
  },
  {
   "cell_type": "markdown",
   "metadata": {
    "cell_style": "center",
    "slideshow": {
     "slide_type": "fragment"
    }
   },
   "source": [
    "- **Motivation**: \n",
    "    - Most would rather be learning more about machine learning and neural networks 😅"
   ]
  },
  {
   "cell_type": "markdown",
   "metadata": {
    "slideshow": {
     "slide_type": "slide"
    }
   },
   "source": [
    "# Altair: Declarative Visualization in Python\n",
    "\n",
    "<div align = \"right\"> \n",
    "    <br>\n",
    "    <br>\n",
    "    <br>\n",
    "    <br>\n",
    "    <br>\n",
    "    <br>\n",
    "    <br>\n",
    "    <br>\n",
    "    <br>\n",
    "    <br>\n",
    "    <br>\n",
    "    <br>\n",
    "    <br>\n",
    "    <br>\n",
    "    March 13, 2020 <br>\n",
    "    Firas Moosvi\n",
    "</div>"
   ]
  },
  {
   "cell_type": "code",
   "execution_count": null,
   "metadata": {},
   "outputs": [],
   "source": [
    "## We'll be using the mtcars dataset for most of the cool stuff in this lecture\n",
    "\n",
    "mtcars.head()"
   ]
  },
  {
   "cell_type": "markdown",
   "metadata": {
    "slideshow": {
     "slide_type": "slide"
    }
   },
   "source": [
    "## Learning Objectives"
   ]
  },
  {
   "cell_type": "markdown",
   "metadata": {
    "slideshow": {
     "slide_type": "fragment"
    }
   },
   "source": [
    "- Explain the difference between declarative and imperative syntax"
   ]
  },
  {
   "cell_type": "markdown",
   "metadata": {
    "slideshow": {
     "slide_type": "fragment"
    }
   },
   "source": [
    "- Describe the 6 components of the visualization grammar"
   ]
  },
  {
   "cell_type": "markdown",
   "metadata": {
    "slideshow": {
     "slide_type": "fragment"
    }
   },
   "source": [
    "- Construct data visualizations using Altair"
   ]
  },
  {
   "cell_type": "markdown",
   "metadata": {
    "slideshow": {
     "slide_type": "fragment"
    }
   },
   "source": [
    "- Add interactivity to Altair plots"
   ]
  },
  {
   "cell_type": "markdown",
   "metadata": {
    "slideshow": {
     "slide_type": "fragment"
    }
   },
   "source": [
    "- Start critically evaluate data visualizations"
   ]
  },
  {
   "cell_type": "markdown",
   "metadata": {
    "cell_style": "center",
    "slideshow": {
     "slide_type": "subslide"
    }
   },
   "source": [
    "### Starting with the punchline!\n",
    "\n",
    "By the end of lecture today, you will learn how to make this chart using the `mtcars` dataset:"
   ]
  },
  {
   "cell_type": "code",
   "execution_count": null,
   "metadata": {
    "cell_style": "center",
    "slideshow": {
     "slide_type": "fragment"
    }
   },
   "outputs": [],
   "source": [
    "base = alt.Chart(mtcars).mark_point().encode(\n",
    "    alt.X('Horsepower'),\n",
    "    alt.Y('Miles_per_Gallon'),\n",
    "    alt.Color('Origin'),\n",
    "    alt.Column('Origin')\n",
    ") \n",
    "\n",
    "base"
   ]
  },
  {
   "cell_type": "markdown",
   "metadata": {
    "slideshow": {
     "slide_type": "subslide"
    }
   },
   "source": [
    "### In matplotlib:\n",
    "\n",
    "If you're familiar with `matplotlib`, this should illustrate to you **how** Altair is different - not better or worse, just *differently sane* (h/t [Greg Wilson](https://tidynomicon.tech))."
   ]
  },
  {
   "cell_type": "code",
   "execution_count": null,
   "metadata": {
    "slideshow": {
     "slide_type": "fragment"
    }
   },
   "outputs": [],
   "source": [
    "colour_map = dict(zip(mtcars['Origin'].unique(), ['red','lightblue','orange']))\n",
    "n_panels = len(colour_map)\n",
    "\n",
    "fig, ax = plt.subplots(1, n_panels, figsize=(n_panels * 6, 5),\n",
    "                       sharex = True, sharey = True)\n",
    "\n",
    "for i, (country,group) in enumerate(mtcars.groupby('Origin')):\n",
    "    ax[i].scatter(group['Horsepower'],\n",
    "                  group['Miles_per_Gallon'],\n",
    "                  label = country,\n",
    "                  color = colour_map[country])\n",
    "    ax[i].legend(title='Origin')\n",
    "    ax[i].grid()\n",
    "    ax[i].set_xlabel('Horsepower')\n",
    "    ax[i].set_ylabel('Miles_per_Gallon')"
   ]
  },
  {
   "cell_type": "markdown",
   "metadata": {
    "slideshow": {
     "slide_type": "subslide"
    }
   },
   "source": [
    "## Part 1: Power of data visualizations"
   ]
  },
  {
   "cell_type": "markdown",
   "metadata": {
    "cell_style": "split",
    "slideshow": {
     "slide_type": "subslide"
    }
   },
   "source": [
    "#### Case 1: Gun deaths in Florida\n",
    "\n",
    "<div style=\"height: 30px;\">\n",
    "    \n",
    "</div>\n",
    "\n",
    "<center>\n",
    "    <img src=\"https://i.insider.com/53038b556da8110e5ce82be7?width=700&format=jpeg&auto=webp\" width=70%>\n",
    "</center>\n",
    "    \n",
    "Sources: [Original plot](https://www.businessinsider.com/gun-deaths-in-florida-increased-with-stand-your-ground-2014-2), [Example](https://callingbull.org/tools/tools_misleading_axes.html), and [Data](https://docs.google.com/spreadsheets/d/1-kFDDxN7_APdaUwZpUdqN4O6Oh1vKVJreGqopyXyboI/edit#gid=695259917)"
   ]
  },
  {
   "cell_type": "code",
   "execution_count": null,
   "metadata": {
    "cell_style": "split",
    "slideshow": {
     "slide_type": "fragment"
    }
   },
   "outputs": [],
   "source": [
    "## Poll question 1\n",
    "\n",
    "IFrame(q1, 500, 400)"
   ]
  },
  {
   "cell_type": "markdown",
   "metadata": {
    "slideshow": {
     "slide_type": "subslide"
    }
   },
   "source": [
    "## Results!\n",
    "\n",
    "The correct answer is: \n",
    "\n",
    "```\n",
    "## Enter the answer here\n",
    "```"
   ]
  },
  {
   "cell_type": "markdown",
   "metadata": {
    "cell_style": "split",
    "slideshow": {
     "slide_type": "subslide"
    }
   },
   "source": [
    "### Case 2: Clinic visits for neck injuries and TV-watching habits\n",
    "\n",
    "<div style=\"height: 30px;\">\n",
    "    \n",
    "</div>\n",
    "    \n",
    "<center>\n",
    "<img src=imgs/case2.png width=100% align=\"center\"/>\n",
    "</center>\n",
    "\n",
    "Sources: Adapted from [callingbull.org](https://youtu.be/9pNWVMxaFuM?t=287) and [Original Paper](https://www.ncbi.nlm.nih.gov/pubmed/26103708)"
   ]
  },
  {
   "cell_type": "code",
   "execution_count": null,
   "metadata": {
    "cell_style": "split",
    "slideshow": {
     "slide_type": "fragment"
    }
   },
   "outputs": [],
   "source": [
    "## Poll question 2\n",
    "\n",
    "IFrame(q2, 500, 500)"
   ]
  },
  {
   "cell_type": "markdown",
   "metadata": {
    "slideshow": {
     "slide_type": "subslide"
    }
   },
   "source": [
    "## Results!\n",
    "\n",
    "The correct answer is: \n",
    "\n",
    "```\n",
    "## Enter the answer here\n",
    "```"
   ]
  },
  {
   "cell_type": "markdown",
   "metadata": {
    "slideshow": {
     "slide_type": "slide"
    }
   },
   "source": [
    "## Part 2: Introduction to Altair\n"
   ]
  },
  {
   "cell_type": "markdown",
   "metadata": {
    "slideshow": {
     "slide_type": "subslide"
    }
   },
   "source": [
    "<center>\n",
    "    <img src=\"imgs/Visualization-Grammar 1.jpeg\">\n",
    "<center>\n",
    "    \n",
    "Slide used with permission from [Eitan Lees](https://eitanlees.github.io/altair-stack/)"
   ]
  },
  {
   "cell_type": "markdown",
   "metadata": {
    "slideshow": {
     "slide_type": "subslide"
    }
   },
   "source": [
    "### Why do we need a visualization grammar?"
   ]
  },
  {
   "cell_type": "code",
   "execution_count": null,
   "metadata": {
    "cell_style": "split",
    "slideshow": {
     "slide_type": "fragment"
    }
   },
   "outputs": [],
   "source": [
    "# Altair: Declarative\n",
    "\n",
    "base = alt.Chart(mtcars).mark_point().encode(\n",
    "    alt.X('Horsepower'),\n",
    "    alt.Y('Miles_per_Gallon'),\n",
    "    alt.Color('Origin'),\n",
    "    alt.Column('Origin')\n",
    ")\n",
    "\n",
    "base"
   ]
  },
  {
   "cell_type": "code",
   "execution_count": null,
   "metadata": {
    "cell_style": "split",
    "slideshow": {
     "slide_type": "fragment"
    }
   },
   "outputs": [],
   "source": [
    "# Matplotlib: Imperative\n",
    "\n",
    "colour_map = dict(zip(mtcars['Origin'].unique(), ['red','lightblue','orange']))\n",
    "n_panels = len(colour_map)\n",
    "\n",
    "fig, ax = plt.subplots(1, n_panels, figsize=(n_panels * 6, 5),\n",
    "                       sharex = True, sharey = True)\n",
    "\n",
    "for i, (country,group) in enumerate(mtcars.groupby('Origin')):\n",
    "    ax[i].scatter(group['Horsepower'],\n",
    "                  group['Miles_per_Gallon'],\n",
    "                  label = country,\n",
    "                  color = colour_map[country])\n",
    "    ax[i].legend(title='Origin')\n",
    "    ax[i].grid()\n",
    "    ax[i].set_xlabel('Horsepower')\n",
    "    ax[i].set_ylabel('Miles_per_Gallon')"
   ]
  },
  {
   "cell_type": "markdown",
   "metadata": {
    "slideshow": {
     "slide_type": "subslide"
    }
   },
   "source": [
    "<center>\n",
    "    <img src=\"imgs/Visualization-Grammar 8.jpeg\">\n",
    "</center>\n",
    "\n",
    "Slide used with permission from [Eitan Lees](https://eitanlees.github.io/altair-stack/)"
   ]
  },
  {
   "cell_type": "markdown",
   "metadata": {
    "slideshow": {
     "slide_type": "subslide"
    }
   },
   "source": [
    "<center>\n",
    "    <img src=\"imgs/Visualization-Grammar 2.jpeg\">\n",
    "<center>\n",
    "    \n",
    "Slide used with permission from [Eitan Lees](https://eitanlees.github.io/altair-stack/)"
   ]
  },
  {
   "cell_type": "markdown",
   "metadata": {
    "Collapsed": "false",
    "slideshow": {
     "slide_type": "subslide"
    }
   },
   "source": [
    "## 1. Tabular Data\n",
    "\n",
    "Data in Altair is built around the [Pandas DataFrame](http://pandas.pydata.org/pandas-docs/stable/generated/pandas.DataFrame.html).\n",
    "\n",
    "The fundamental object in Altair is the ``Chart``. It takes the dataframe as a single argument:\n",
    "\n",
    "```chart = alt.Chart(DataFrame)```"
   ]
  },
  {
   "cell_type": "markdown",
   "metadata": {
    "slideshow": {
     "slide_type": "subslide"
    }
   },
   "source": [
    "Let's create a simple `DataFrame` to visualize, with a categorical data in the `Letters` column and numerical data in the `Numbers` column:"
   ]
  },
  {
   "cell_type": "code",
   "execution_count": null,
   "metadata": {
    "slideshow": {
     "slide_type": "fragment"
    }
   },
   "outputs": [],
   "source": [
    "df = pd.DataFrame({'Letters': list('CCCDDDEEE'),\n",
    "                     'Numbers': [2, 7, 4, 1, 2, 6, 8, 4, 7]})\n",
    "df.T"
   ]
  },
  {
   "cell_type": "code",
   "execution_count": null,
   "metadata": {
    "slideshow": {
     "slide_type": "fragment"
    }
   },
   "outputs": [],
   "source": [
    "plot = alt.Chart(df)\n",
    "\n",
    "#plot "
   ]
  },
  {
   "cell_type": "markdown",
   "metadata": {
    "slideshow": {
     "slide_type": "subslide"
    }
   },
   "source": [
    "<center>\n",
    "    <img src=\"imgs/Visualization-Grammar 3.jpeg\">\n",
    "<center>\n",
    "    \n",
    "Slide used with permission from [Eitan Lees](https://eitanlees.github.io/altair-stack/)"
   ]
  },
  {
   "cell_type": "markdown",
   "metadata": {
    "cell_style": "split",
    "slideshow": {
     "slide_type": "subslide"
    }
   },
   "source": [
    "## 2. Chart Marks\n",
    "\n",
    "Next we can decide what sort of *mark* we would like to use to represent our data.\n",
    "\n",
    "Here are some of the more commonly used `mark_*()` methods supported in Altair and Vega-Lite; for more detail see [Marks](https://altair-viz.github.io/user_guide/marks.html) in the Altair documentation:"
   ]
  },
  {
   "cell_type": "markdown",
   "metadata": {
    "cell_style": "split",
    "slideshow": {
     "slide_type": "fragment"
    }
   },
   "source": [
    "|Mark|\n",
    "|------|\n",
    "|`mark_area()`|\n",
    "|`mark_bar()`|\n",
    "|`mark_circle()`, `mark_point`, `mark_square`|\n",
    "|`mark_rect()`|\n",
    "|`mark_line()`|\n",
    "|`mark_rule()`|\n",
    "|`mark_text()`|\n",
    "|`mark_image()`|"
   ]
  },
  {
   "cell_type": "markdown",
   "metadata": {
    "slideshow": {
     "slide_type": "subslide"
    }
   },
   "source": [
    "Let's add a mark_point() to our plot:"
   ]
  },
  {
   "cell_type": "code",
   "execution_count": null,
   "metadata": {
    "slideshow": {
     "slide_type": "fragment"
    }
   },
   "outputs": [],
   "source": [
    "plot = alt.Chart(df).mark_point()\n",
    "\n",
    "plot"
   ]
  },
  {
   "cell_type": "markdown",
   "metadata": {
    "slideshow": {
     "slide_type": "fragment"
    }
   },
   "source": [
    "😒 \n",
    "\n",
    "We have a plot now, but clearly we're being pranked: all the data points collapsed to one location! Why ?"
   ]
  },
  {
   "cell_type": "markdown",
   "metadata": {
    "slideshow": {
     "slide_type": "subslide"
    }
   },
   "source": [
    "<center>\n",
    "    <img src=\"imgs/Visualization-Grammar 4.jpeg\">\n",
    "<center>\n",
    "    \n",
    "Slide used with permission from [Eitan Lees](https://eitanlees.github.io/altair-stack/)"
   ]
  },
  {
   "cell_type": "markdown",
   "metadata": {
    "cell_style": "split",
    "slideshow": {
     "slide_type": "subslide"
    }
   },
   "source": [
    "A visual encoding specifies how a given data column should be **mapped** onto *visual properties* of the visualization.\n",
    "\n",
    "Some of the more frequently used visual encodings are listed on the right:\n",
    "\n",
    "\n",
    "\n",
    "\n",
    "\n",
    "\n",
    "For a complete list of these encodings, see the [Encodings](https://altair-viz.github.io/user_guide/encoding.html) section of the documentation."
   ]
  },
  {
   "cell_type": "markdown",
   "metadata": {
    "cell_style": "split",
    "slideshow": {
     "slide_type": "fragment"
    }
   },
   "source": [
    "|Encoding| What does it encode?\n",
    "|--------|--------------------|\n",
    "|`X`| x-axis value | \n",
    "|`Y`| y-axis value |\n",
    "|`Color`| color of the mark |\n",
    "|`Opacity`| transparency/opacity of the mark |\n",
    "|`Shape`| shape of the mark |\n",
    "|`Size`| size of the mark |\n",
    "|`Row`| row within a grid of facet plots |\n",
    "|`Column`| column within a grid of facet plots |"
   ]
  },
  {
   "cell_type": "markdown",
   "metadata": {
    "slideshow": {
     "slide_type": "subslide"
    }
   },
   "source": [
    "Let's add an encoding so the data is mapped to the x and y axes:"
   ]
  },
  {
   "cell_type": "code",
   "execution_count": null,
   "metadata": {
    "slideshow": {
     "slide_type": "fragment"
    }
   },
   "outputs": [],
   "source": [
    "plot = alt.Chart(df).mark_point().encode(alt.X('Numbers'))\n",
    "\n",
    "plot\n",
    "\n",
    "# We still haven't encoded any of the data to the Y-axis!"
   ]
  },
  {
   "cell_type": "markdown",
   "metadata": {
    "slideshow": {
     "slide_type": "subslide"
    }
   },
   "source": [
    "### You Try!\n",
    "\n",
    "Encode the `Letters` column at the `y` position to make the visualization more useful."
   ]
  },
  {
   "cell_type": "code",
   "execution_count": null,
   "metadata": {
    "slideshow": {
     "slide_type": "fragment"
    }
   },
   "outputs": [],
   "source": [
    "plot = alt.Chart(df).mark_point().encode(alt.X('Numbers'),\n",
    "                                           ## YOUR SOLUTION HERE\n",
    "                                          )\n",
    "\n",
    "plot"
   ]
  },
  {
   "cell_type": "markdown",
   "metadata": {
    "slideshow": {
     "slide_type": "subslide"
    }
   },
   "source": [
    "### You Try!\n",
    "\n",
    "Change the `mark` from `mark_point()` to `mark_circle` or `mark_square`"
   ]
  },
  {
   "cell_type": "code",
   "execution_count": null,
   "metadata": {
    "slideshow": {
     "slide_type": "fragment"
    }
   },
   "outputs": [],
   "source": [
    "plot = plot ## YOUR SOLUTION HERE\n",
    "\n",
    "plot"
   ]
  },
  {
   "cell_type": "markdown",
   "metadata": {
    "slideshow": {
     "slide_type": "subslide"
    }
   },
   "source": [
    "### You Try!\n",
    "\n",
    "What do you think will happen when you try to change the `mark_circle` to a `mark_bar()`"
   ]
  },
  {
   "cell_type": "code",
   "execution_count": null,
   "metadata": {
    "slideshow": {
     "slide_type": "fragment"
    }
   },
   "outputs": [],
   "source": [
    "plot ## YOUR SOLUTION HERE"
   ]
  },
  {
   "cell_type": "markdown",
   "metadata": {
    "slideshow": {
     "slide_type": "subslide"
    }
   },
   "source": [
    "<center>\n",
    "    <img src=\"imgs/Visualization-Grammar 5.jpeg\">\n",
    "<center>\n",
    "    \n",
    "Slide used with permission from [Eitan Lees](https://eitanlees.github.io/altair-stack/)"
   ]
  },
  {
   "cell_type": "markdown",
   "metadata": {
    "slideshow": {
     "slide_type": "subslide"
    }
   },
   "source": [
    "### 4. Transforms\n",
    "\n",
    "Though Altair supports a few built-in data transformations and aggregations, in general I **do not suggest** you use them.\n",
    "\n",
    "Some reasons why:\n",
    "\n",
    "- Not all functions are available\n",
    "- You already know how to do complex wrangling using pandas\n",
    "- No opportunity to write tests if wrangling is done within plots\n",
    "- Single point of failure\n",
    "- Syntax is non-trivial and not very \"pythonic\"\n",
    "- Code is less readable and harder to document"
   ]
  },
  {
   "cell_type": "markdown",
   "metadata": {
    "slideshow": {
     "slide_type": "subslide"
    }
   },
   "source": [
    "<center>\n",
    "    <img src=\"imgs/Visualization-Grammar 6.jpeg\">\n",
    "<center>\n",
    "    \n",
    "Slide used with permission from [Eitan Lees](https://eitanlees.github.io/altair-stack/)"
   ]
  },
  {
   "cell_type": "markdown",
   "metadata": {
    "slideshow": {
     "slide_type": "subslide"
    }
   },
   "source": [
    "### 5. Scale\n",
    "\n",
    "The scale parameter controls axis limits, axis types (`log`, `semi-log`, etc...).\n",
    "\n",
    "For a complete description of the available options, see the [Scales and Guides](https://altair-viz.github.io/user_guide/scale_resolve.html) section of the documentation."
   ]
  },
  {
   "cell_type": "code",
   "execution_count": null,
   "metadata": {
    "slideshow": {
     "slide_type": "fragment"
    }
   },
   "outputs": [],
   "source": [
    "plot = alt.Chart(df).mark_point().encode(\n",
    "            alt.X('Numbers'),\n",
    "            alt.Y('Letters'))\n",
    "\n",
    "plot.encode(alt.X('Numbers', \n",
    "                  scale = alt.Scale(type='log')))"
   ]
  },
  {
   "cell_type": "markdown",
   "metadata": {
    "slideshow": {
     "slide_type": "subslide"
    }
   },
   "source": [
    "<center>\n",
    "    <img src=\"imgs/Visualization-Grammar 7.jpeg\">\n",
    "<center>\n",
    "    \n",
    "Slide used with permission from [Eitan Lees](https://eitanlees.github.io/altair-stack/)"
   ]
  },
  {
   "cell_type": "markdown",
   "metadata": {
    "slideshow": {
     "slide_type": "subslide"
    }
   },
   "source": [
    "### 6. Guide\n",
    "\n",
    "The guides component deals with legends and annotations that \"guide\" our interpretation of the data. In most cases you will not need to work with this component very much as the defaults are pretty good!\n",
    "\n",
    "For a complete description of the available options, see the [Scales and Guides](https://altair-viz.github.io/user_guide/scale_resolve.html) section of the documentation."
   ]
  },
  {
   "cell_type": "markdown",
   "metadata": {
    "slideshow": {
     "slide_type": "subslide"
    }
   },
   "source": [
    "## Apply the Visualization Grammar!"
   ]
  },
  {
   "cell_type": "markdown",
   "metadata": {
    "cell_style": "split",
    "slideshow": {
     "slide_type": "fragment"
    }
   },
   "source": [
    "### Activity: \n",
    "\n",
    "Use the table below to create the visualization we started the lecture with (try not to scroll up to get the code unless you're really stuck!)\n",
    "\n",
    "| Grammar component | Plot element | \n",
    "| ----------------- | ------------ |\n",
    "| 1. Data |     `mtcars` |\n",
    "| 2. Mark |     `mark_point` |\n",
    "| 3. Encode |   'Horsepower' to X,<br> 'Miles_per_Gallon' to Y, <br> 'Origin' to Color AND Column |\n",
    "| 4. Transform | None |\n",
    "| 5. Scale |    None |\n",
    "| 6. Guide |    None |\n",
    "\n"
   ]
  },
  {
   "cell_type": "code",
   "execution_count": null,
   "metadata": {
    "cell_style": "split",
    "slideshow": {
     "slide_type": "fragment"
    }
   },
   "outputs": [],
   "source": [
    "# Altair \n",
    "\n",
    "## To uncomment the code chunk below, select it\n",
    "## and press Command + / (or Control + /)\n",
    "\n",
    "first_chart = alt.Chart(mtcars).mark_point().encode(\n",
    "    alt.X('Horsepower'),\n",
    "    alt.Y('Miles_per_Gallon'),\n",
    "    alt.Color('Origin'),\n",
    "    alt.Column('Origin')\n",
    ")\n",
    "first_chart.interactive()"
   ]
  },
  {
   "cell_type": "markdown",
   "metadata": {
    "slideshow": {
     "slide_type": "subslide"
    }
   },
   "source": [
    "### One more thing..."
   ]
  },
  {
   "cell_type": "code",
   "execution_count": null,
   "metadata": {
    "slideshow": {
     "slide_type": "fragment"
    }
   },
   "outputs": [],
   "source": [
    "chart = alt.Chart(mtcars).mark_point().encode(\n",
    "            alt.X('Horsepower'),\n",
    "            alt.Y('Miles_per_Gallon'))\n",
    "\n",
    "\n",
    "\n",
    "chart"
   ]
  },
  {
   "cell_type": "markdown",
   "metadata": {
    "slideshow": {
     "slide_type": "slide"
    }
   },
   "source": [
    "## Summary and recap:"
   ]
  },
  {
   "cell_type": "markdown",
   "metadata": {
    "slideshow": {
     "slide_type": "fragment"
    }
   },
   "source": [
    "### 1. Power of visualizations\n",
    "\n",
    "- Visualizations can be very effective in communicating complex ideas...\n",
    "- But they can also be abused\n",
    "- Responsible use of visualizations"
   ]
  },
  {
   "cell_type": "markdown",
   "metadata": {
    "cell_style": "split",
    "slideshow": {
     "slide_type": "fragment"
    }
   },
   "source": [
    "### 2. Visualization Grammar\n",
    "\n",
    "1. Data\n",
    "2. Marks\n",
    "3. Encoding\n",
    "4. Transformation\n",
    "5. Scale\n",
    "6. Guide"
   ]
  },
  {
   "cell_type": "markdown",
   "metadata": {
    "cell_style": "split",
    "slideshow": {
     "slide_type": "fragment"
    }
   },
   "source": [
    "### 3. Introduction to Altair syntax\n",
    "\n",
    "- Marks and encoding\n",
    "- Declarative vs. Imperative\n",
    "- Built-in interactivity"
   ]
  },
  {
   "cell_type": "markdown",
   "metadata": {
    "slideshow": {
     "slide_type": "subslide"
    }
   },
   "source": [
    "## Next class ... "
   ]
  },
  {
   "cell_type": "code",
   "execution_count": null,
   "metadata": {
    "slideshow": {
     "slide_type": "fragment"
    }
   },
   "outputs": [],
   "source": [
    "# starting with the same plot we started with this lecture...\n",
    "\n",
    "base = (\n",
    "    alt.Chart(mtcars).mark_point(size=40).encode(\n",
    "        alt.X(\"Horsepower\"),\n",
    "        alt.Y(\"Miles_per_Gallon\"),\n",
    "        alt.Color(\"Origin\"),\n",
    "        alt.Column(\"Origin\"),\n",
    "    )\n",
    "    .properties(width=250, height=200)\n",
    ")\n",
    "\n",
    "base\n",
    "\n",
    "# With just a few lines of code, we can make some magic..."
   ]
  },
  {
   "cell_type": "code",
   "execution_count": null,
   "metadata": {
    "slideshow": {
     "slide_type": "subslide"
    }
   },
   "outputs": [],
   "source": [
    "## New code - to be discussed next week!\n",
    "\n",
    "brush = alt.selection(type=\"interval\")\n",
    "\n",
    "base = base.encode(\n",
    "    color=alt.condition(brush, \"Origin\", alt.ColorValue(\"gray\")),\n",
    "    tooltip=[\"Name\", \"Origin\", \"Horsepower\", \"Miles_per_Gallon\"],\n",
    ").add_selection(brush)\n",
    "base\n"
   ]
  },
  {
   "cell_type": "markdown",
   "metadata": {
    "slideshow": {
     "slide_type": "subslide"
    }
   },
   "source": [
    "### Acknowledgements\n",
    "\n",
    "- PIMS for hosting and maintaining `syzygy`\n",
    "- Altair development team\n",
    "    - [Eitan Lees for his slides on the Visualization Grammar](https://speakerdeck.com/eitanlees/visualization-grammar)\n",
    "    - [Jake VanderPlas](https://github.com/jakevdp) for his thousands of StackOverflow and GitHub answers related to Altair)\n",
    "- MDS-V academic teaching team for their ideas and feedback\n"
   ]
  },
  {
   "cell_type": "markdown",
   "metadata": {
    "slideshow": {
     "slide_type": "skip"
    }
   },
   "source": [
    "## Appendix"
   ]
  },
  {
   "cell_type": "markdown",
   "metadata": {
    "slideshow": {
     "slide_type": "skip"
    }
   },
   "source": [
    "![](imgs/02-altair-stack.png)\n",
    "\n",
    "[Credit: Eitan Lees](https://eitanlees.github.io/altair-stack/)"
   ]
  },
  {
   "cell_type": "markdown",
   "metadata": {
    "slideshow": {
     "slide_type": "skip"
    }
   },
   "source": [
    "Contrary to other plotting libraries, in Altair, every dataset must be provided as either:\n",
    "\n",
    "- a Dataframe, OR \n",
    "- a URL to a `json` or `csv` file\n",
    "- GeoJSON objects (for maps)\n",
    "\n",
    "The URL passed in, is turned into a dataframe behind the scenes. \n",
    "\n",
    "See [Defining Data](https://altair-viz.github.io/user_guide/data.html) in the Altair documentation for more details."
   ]
  },
  {
   "cell_type": "markdown",
   "metadata": {
    "slideshow": {
     "slide_type": "skip"
    }
   },
   "source": [
    "Altair is able to automatically determine the type of the variable using built-in heuristics. \n",
    "\n",
    "That being said, it is definitely **very GOOD practice** to specify the `encoding` explicitly.\n",
    "\n",
    "There are four possible data types and Altair provides a useful shortcode to specify them: :\n",
    "\n",
    "| Data Type | Description | Shortcode| \n",
    "| ----------| ----------- | ---------|\n",
    "| Quantitative | Numerical quantity (real-valued) | `:Q` |\n",
    "| Nominal | Names / Unordered categoricals | `:N` |\n",
    "| Ordinal | Ordered categoricals | `:O` | \n",
    "| Temporal | Date/time | `:T` | \n",
    "\n"
   ]
  },
  {
   "cell_type": "markdown",
   "metadata": {
    "slideshow": {
     "slide_type": "skip"
    }
   },
   "source": [
    "## RISE settings "
   ]
  },
  {
   "cell_type": "code",
   "execution_count": null,
   "metadata": {
    "slideshow": {
     "slide_type": "skip"
    }
   },
   "outputs": [],
   "source": [
    "from traitlets.config.manager import BaseJSONConfigManager\n",
    "from pathlib import Path\n",
    "path = Path.home() / \".jupyter\" / \"nbconfig\"\n",
    "cm = BaseJSONConfigManager(config_dir=str(path))\n",
    "tmp = cm.update(\n",
    "        \"rise\",\n",
    "        {\n",
    "            \"theme\": \"serif\",\n",
    "            \"transition\": \"fade\",\n",
    "            \"start_slideshow_at\": \"selected\",\n",
    "            \"autolaunch\": False,\n",
    "            \"width\": \"100%\",\n",
    "            \"height\": \"100%\",\n",
    "            \"header\": \"\",\n",
    "            \"footer\":\"\",\n",
    "            \"scroll\": True,\n",
    "            \"enable_chalkboard\": True,\n",
    "            \"slideNumber\": True,\n",
    "            \"center\": False,\n",
    "            \"controlsLayout\": \"edges\",\n",
    "            \"slideNumber\": True,\n",
    "            \"hash\": True,\n",
    "        }\n",
    "    )"
   ]
  }
 ],
 "metadata": {
  "celltoolbar": "Slideshow",
  "kernelspec": {
   "display_name": "Python 3",
   "language": "python",
   "name": "python3"
  },
  "language_info": {
   "codemirror_mode": {
    "name": "ipython",
    "version": 3
   },
   "file_extension": ".py",
   "mimetype": "text/x-python",
   "name": "python",
   "nbconvert_exporter": "python",
   "pygments_lexer": "ipython3",
   "version": "3.7.6"
  }
 },
 "nbformat": 4,
 "nbformat_minor": 4
}
